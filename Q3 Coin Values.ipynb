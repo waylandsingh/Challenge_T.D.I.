{
 "cells": [
  {
   "cell_type": "code",
   "execution_count": 1,
   "metadata": {},
   "outputs": [],
   "source": [
    "import numpy as np\n",
    "import seaborn as sns\n",
    "import matplotlib.pyplot as plt"
   ]
  },
  {
   "cell_type": "markdown",
   "metadata": {},
   "source": [
    "- Coins with values 1 through N (inclusive) are placed into a bag. \n",
    "- All the coins from the bag are iteratively drawn (without replacement) at random. \n",
    "- For the first coin, you are paid the value of the coin. \n",
    "- For subsequent coins, you are paid the absolute difference between the drawn coin and the previously drawn coin. \n",
    "- For example, if you drew 5,3,2,4,1, your payments would be 5,2,1,2,3 for a total payment of 13.\n",
    "\n",
    "*please provide 5 digits of precision*"
   ]
  },
  {
   "cell_type": "markdown",
   "metadata": {},
   "source": [
    "steps: \n",
    "1. start with a recursive option\n",
    "2. take a few samples and see what shakes\n",
    "3. look for ways to help reduce recursive calls (dynamic programming?) np diff function?\n",
    "4. iterate until we converge to answer with 5 digits precision"
   ]
  },
  {
   "cell_type": "code",
   "execution_count": 2,
   "metadata": {},
   "outputs": [
    {
     "name": "stdout",
     "output_type": "stream",
     "text": [
      "[ 0  8  3  2  5  6  7  9  1 10  4]\n",
      "[ 8 -5 -1  3  1  1  2 -8  9 -6]\n",
      "44\n"
     ]
    }
   ],
   "source": [
    "# First, define a function to return a single array of length n\n",
    "n = 10 # note that there are 3628800 different permutations of 10 coints\n",
    "def coin_array_score_demo(N):\n",
    "    \"\"\"Demonstrate picking N coins, show the differences, and calculate payment/score\"\"\"\n",
    "    coins = np.arange(1,N+1)\n",
    "    np.random.shuffle(coins)\n",
    "    coins = np.append(coins, 0) #can just add the first value to the absolute sum, as below\n",
    "    scoring_array = np.diff(coins[::-1]) #no need for reversing the index, see below\n",
    "    score = abs(scoring_array).sum()\n",
    "    print(f'{coins[::-1]}\\n{scoring_array}\\n{score}')\n",
    "    return \n",
    "\n",
    "coin_array_score_demo(n)"
   ]
  },
  {
   "cell_type": "code",
   "execution_count": 3,
   "metadata": {},
   "outputs": [
    {
     "name": "stdout",
     "output_type": "stream",
     "text": [
      "The mean:38.5\tstddev:6.365270352991039\tprobability of payment >= 45: 0.1817956349206349\n"
     ]
    }
   ],
   "source": [
    "# Before moving onto a sampling approach, N=10 can be calculated exactly by generating the array of all permutations\n",
    "# Since each permutation is equally likely, the mean of the score of all the permutations\n",
    "from sympy.utilities.iterables import multiset_permutations\n",
    "\n",
    "a = np.arange(1,11)\n",
    "exact_array10 = np.array([p for p in multiset_permutations(a)])\n",
    "\n",
    "def score_coins(arr, N):\n",
    "    \"\"\"array of trials is evaluated by taking the absolute difference between successive coins, \n",
    "    with the first coin instead being worth its own value\"\"\"\n",
    "    return abs(np.diff(arr)).sum(axis=1).astype('uint8') + arr[:,0].astype('uint8')\n",
    "\n",
    "scoring10 = score_coins(exact_array10,n)\n",
    "m = scoring10.mean() \n",
    "std = scoring10.std()\n",
    "\n",
    "# To find the probability of payment>=45 divide the #payments >=45 by total #payments\n",
    "p45_plus = scoring10[np.where(scoring10 >= 45)].shape[0] / len(scoring10)\n",
    "\n",
    "print(f'The mean:{m}\\tstddev:{std}\\tprobability of payment >= 45: {p45_plus}')"
   ]
  },
  {
   "cell_type": "code",
   "execution_count": 4,
   "metadata": {},
   "outputs": [
    {
     "data": {
      "text/plain": [
       "Text(0.5, 0, 'Payment (Schmeckles)')"
      ]
     },
     "execution_count": 4,
     "metadata": {},
     "output_type": "execute_result"
    },
    {
     "data": {
      "image/png": "[encoded data removed]",
      "text/plain": [
       "<Figure size 432x288 with 1 Axes>"
      ]
     },
     "metadata": {
      "needs_background": "light"
     },
     "output_type": "display_data"
    }
   ],
   "source": [
    "sns.countplot(scoring10[np.where(scoring10 >= 45)]).set_title('# of Each Payment in Distribution')\n",
    "plt.xlabel('Payment (Schmeckles)')"
   ]
  },
  {
   "cell_type": "code",
   "execution_count": 5,
   "metadata": {},
   "outputs": [
    {
     "name": "stdout",
     "output_type": "stream",
     "text": [
      "[ 0  1  7 20  4 10 16 15 19  6  8  2  9  5 12 18 14 13 17 11  3]\n",
      "[  1   6  13 -16   6   6  -1   4 -13   2  -6   7  -4   7   6  -4  -1   4\n",
      "  -6  -8]\n",
      "121\n"
     ]
    }
   ],
   "source": [
    "# Don't change this cell if you expect a non-exception result\n",
    "# b = np.arange(20)\n",
    "# twenty_exact_array = np.array([p for p in multiset_permutations(b)])\n",
    "coin_array_score_demo(20)"
   ]
  },
  {
   "cell_type": "markdown",
   "metadata": {},
   "source": [
    "Unfortunately, the above approach won't work for N=20, as the number of permutations exceeds 2E18, much more than can be held in memory of any sort on my computer (exabyte range). "
   ]
  },
  {
   "cell_type": "markdown",
   "metadata": {},
   "source": [
    "Instead, we will create arrays of values 1-20 inclusive in random permutations, then score the trials using the function above. With a large enough number of trials, we can approximate the distribution of scores, and attempt to calculate the mean, standard deviation, and a cumulative probability."
   ]
  },
  {
   "cell_type": "markdown",
   "metadata": {},
   "source": [
    "As usual, stackexchange proves to be helpful: [this post](https://stackoverflow.com/questions/45437988/numpy-random-choice-to-produce-a-2d-array-with-all-unique-values/45438143#45438143) provides a clever way to generate a large array faster than iterating and shuffling each trial."
   ]
  },
  {
   "cell_type": "markdown",
   "metadata": {},
   "source": [
    "use uint8(0-255) to save a bit of space, as the integers shouldn't exceed 55 for n=10 and 210 for n=20\n",
    "    - Not a proof: \n",
    "        - the maximum score is found by alternating highest descending and lowest ascending\n",
    "            e.g. 10,1,9,2,8,3,7,4,6,5: score=55\n",
    "        - any permutation can be reached by repeatedly: swapping the last two elements, \n",
    "            and/or moving the last element to the first position\n",
    "        - that results in the same score, or lowers it compared to the max"
   ]
  },
  {
   "cell_type": "code",
   "execution_count": 6,
   "metadata": {},
   "outputs": [
    {
     "name": "stdout",
     "output_type": "stream",
     "text": [
      "The mean:(143.5033152016129,)\tstddev:18.435753516445047\tprobability of payment >= 120: 0.8996431048387097\n"
     ]
    }
   ],
   "source": [
    "def rand_inside_rows(m,n):\n",
    "    \"\"\"Create m-row, n-col array that is randomized in each row by the following procedure:\n",
    "        - create an randomized mxn array\n",
    "        - use argsort to return an array of ints wherein each row contains the positions of the random elements when sorted\n",
    "        - add one to each integer in the array (sort returns are indexed from 0)\n",
    "        Note: it's possible that some of the rand values may collide inside the array created, but argsort will still return\n",
    "        sensible output for our purposes. This is equally likely to affect any of the individual coin orders in each trial,\n",
    "        and as such, shouldn't have an effect on the randomness of each trial.\n",
    "    \"\"\"\n",
    "    return (np.random.rand(m,n).argsort(axis=-1).astype('int8') + np.ones((m,1),dtype='int8'))\n",
    "\n",
    "\n",
    "n=20\n",
    "scoring20 = score_coins( rand_inside_rows(24800000,n), n)\n",
    "m = scoring20.mean(), \n",
    "std = scoring20.std()\n",
    "\n",
    "# To find the probability of payment>=45 divide the #payments >=120 by total #payments\n",
    "p120_plus = scoring20[np.where(scoring20 >= 120)].shape[0] / len(scoring20)\n",
    "\n",
    "print(f'The mean:{m}\\tstddev:{std}\\tprobability of payment >= 120: {p120_plus}')"
   ]
  },
  {
   "cell_type": "code",
   "execution_count": 7,
   "metadata": {
    "scrolled": true
   },
   "outputs": [
    {
     "name": "stderr",
     "output_type": "stream",
     "text": [
      "C:\\Users\\way\\Anaconda3\\lib\\site-packages\\seaborn\\distributions.py:218: MatplotlibDeprecationWarning: \n",
      "The 'normed' kwarg was deprecated in Matplotlib 2.1 and will be removed in 3.1. Use 'density' instead.\n",
      "  color=hist_color, **hist_kws)\n"
     ]
    },
    {
     "data": {
      "text/plain": [
       "Text(0.5, 1.0, 'Distribution of Payments for N=20')"
      ]
     },
     "execution_count": 7,
     "metadata": {},
     "output_type": "execute_result"
    },
    {
     "data": {
      "image/png": "[encoded data removed]",
      "text/plain": [
       "<Figure size 432x288 with 1 Axes>"
      ]
     },
     "metadata": {
      "needs_background": "light"
     },
     "output_type": "display_data"
    }
   ],
   "source": [
    "# Brief check to see that the distribution looks as expected\n",
    "sns.distplot(scoring20[::100]).set_title('Distribution of Payments for N=20')"
   ]
  },
  {
   "cell_type": "code",
   "execution_count": null,
   "metadata": {},
   "outputs": [],
   "source": []
  }
 ],
 "metadata": {
  "kernelspec": {
   "display_name": "Python 3",
   "language": "python",
   "name": "python3"
  },
  "language_info": {
   "codemirror_mode": {
    "name": "ipython",
    "version": 3
   },
   "file_extension": ".py",
   "mimetype": "text/x-python",
   "name": "python",
   "nbconvert_exporter": "python",
   "pygments_lexer": "ipython3",
   "version": "3.6.9"
  }
 },
 "nbformat": 4,
 "nbformat_minor": 2
}
